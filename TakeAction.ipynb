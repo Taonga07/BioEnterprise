{
 "metadata": {
  "language_info": {
   "codemirror_mode": {
    "name": "ipython",
    "version": 3
   },
   "file_extension": ".py",
   "mimetype": "text/x-python",
   "name": "python",
   "nbconvert_exporter": "python",
   "pygments_lexer": "ipython3",
   "version": "3.8.2-final"
  },
  "orig_nbformat": 2,
  "kernelspec": {
   "name": "python38264bitb71451c982004edfaaad112ea3569916",
   "display_name": "Python 3.8.2 64-bit"
  }
 },
 "nbformat": 4,
 "nbformat_minor": 2,
 "cells": [
  {
   "cell_type": "code",
   "execution_count": null,
   "metadata": {},
   "outputs": [],
   "source": [
    "#chech you dont run out of reorses"
   ]
  },
  {
   "cell_type": "code",
   "execution_count": 6,
   "metadata": {},
   "outputs": [],
   "source": [
    "time = int(input('How Many years do you want your Buisnes to run? '))\n",
    "location = str(input('What coutry do you live in? '))\n",
    "money =  int(input('How much money do you have? '))"
   ]
  },
  {
   "cell_type": "code",
   "execution_count": 7,
   "metadata": {
    "tags": []
   },
   "outputs": [
    {
     "output_type": "stream",
     "name": "stdout",
     "text": "Jobs: h jfgdy gul\nh\n"
    }
   ],
   "source": [
    "jobs = ['h', 'jfgdy', 'gul']\n",
    "print('Jobs:', * jobs)\n",
    "job = str(input('Choose a Job? (Type + to add new one) '))\n",
    "while job not in jobs:\n",
    "    if job != '+':\n",
    "        print('This is not a job')\n",
    "        job = str(input('Choose a Job? (Type + to add new one)'))\n",
    "    else:\n",
    "        job = str(input('What is your job? '))\n",
    "        jobs.append(job)\n",
    "print(job)\n",
    "#find out wage for job"
   ]
  },
  {
   "cell_type": "code",
   "execution_count": 5,
   "metadata": {},
   "outputs": [],
   "source": [
    "place = int(input('Are you wanting to rent a place to work(1) or buy(2)? '))\n",
    "while place != (1 or 2):\n",
    "    place = int(input('Are you wanting to rent a place to work(1) or buy(2)? '))\n",
    "if place == 1:\n",
    "    #check how many moth in time period\n",
    "    #add ammount ot money to take away up\n",
    "    money - 50 #pay the money\n",
    "if place == 2:\n",
    "    #check size of place\n",
    "    #calculate prise\n",
    "    money = -50 #pay\n",
    "    #find material used\n",
    "    #add to materials"
   ]
  },
  {
   "cell_type": "code",
   "execution_count": 8,
   "metadata": {},
   "outputs": [],
   "source": [
    "#choose where to get materialss from the envimonatl factors and waht each material need to be made (use NASA data)\n",
    "#check the biodiversity there\n",
    "#check what each organism need to survive\n",
    "#take what te resorces need away from the envioment \n",
    "#buy materials\n",
    "# see result (?how?)"
   ]
  },
  {
   "cell_type": "code",
   "execution_count": null,
   "metadata": {},
   "outputs": [],
   "source": []
  }
 ]
}